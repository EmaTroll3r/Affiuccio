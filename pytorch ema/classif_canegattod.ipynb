{
  "cells": [
    {
      "cell_type": "markdown",
      "id": "0b4ccea7",
      "metadata": {
        "id": "0b4ccea7"
      },
      "source": [
        "# Classificatore Cani e Gatti"
      ]
    },
    {
      "cell_type": "markdown",
      "id": "a4f87862",
      "metadata": {
        "id": "a4f87862"
      },
      "source": [
        "Il modello è una conversione da TensorFlow a PyTorch di un classificatore equivalente"
      ]
    },
    {
      "cell_type": "markdown",
      "id": "5972d30b",
      "metadata": {
        "id": "5972d30b"
      },
      "source": [
        "### Preparazione ambiente"
      ]
    },
    {
      "cell_type": "code",
      "execution_count": 3,
      "id": "a605d4d0",
      "metadata": {
        "id": "a605d4d0",
        "outputId": "9418d9cc-2280-4f1e-e2bd-e4623ce2c051",
        "colab": {
          "base_uri": "https://localhost:8080/"
        }
      },
      "outputs": [
        {
          "output_type": "stream",
          "name": "stdout",
          "text": [
            "Usando dispositivo: cuda\n",
            "Nome dispositivo: Tesla T4\n"
          ]
        }
      ],
      "source": [
        "import torch\n",
        "import torch.nn as nn\n",
        "import torch.optim as optim\n",
        "from torchvision import datasets, transforms\n",
        "from torch.utils.data import DataLoader\n",
        "\n",
        "device = torch.device(\"cuda\" if torch.cuda.is_available() else \"cpu\")\n",
        "print(\"Usando dispositivo:\", device)\n",
        "if device.type == \"cuda\":\n",
        "    print(\"Nome dispositivo:\", torch.cuda.get_device_name(0))"
      ]
    },
    {
      "cell_type": "code",
      "execution_count": 4,
      "id": "84b77655",
      "metadata": {
        "id": "84b77655",
        "outputId": "f885e4e8-d8ee-42da-e5d2-b64972a85ad8",
        "colab": {
          "base_uri": "https://localhost:8080/"
        }
      },
      "outputs": [
        {
          "output_type": "stream",
          "name": "stdout",
          "text": [
            "Python executable: /usr/bin/python3\n",
            "PyTorch version: 2.8.0+cu126\n",
            "Torchvision version: 0.23.0+cu126\n",
            "CUDA disponible: True\n",
            "Device selezionato: cuda\n",
            "\n",
            "=== Info AMD GPU ===\n",
            "Supporto ROCm su Windows: Limitato/Non ufficiale\n",
            "GPU AMD RX 7700 XT: Riconosciuta dal sistema ma PyTorch usa CPU\n",
            "Per accelerazione GPU AMD: ROCm su Linux o DirectML (sperimentale)\n",
            "\n",
            "Test tensor: torch.Size([3, 3]) su device: cpu\n",
            "PyTorch installato e funzionante! ✅\n"
          ]
        }
      ],
      "source": [
        "# Verifica installazione PyTorch e ambiente\n",
        "import sys\n",
        "import torchvision\n",
        "print(\"Python executable:\", sys.executable)\n",
        "print(\"PyTorch version:\", torch.__version__)\n",
        "print(\"Torchvision version:\", torchvision.__version__)\n",
        "\n",
        "# Test device detection\n",
        "print(\"CUDA disponible:\", torch.cuda.is_available())\n",
        "print(\"Device selezionato:\", device)\n",
        "\n",
        "# Info su compatibilità AMD\n",
        "print(\"\\n=== Info AMD GPU ===\")\n",
        "print(\"Supporto ROCm su Windows: Limitato/Non ufficiale\")\n",
        "print(\"GPU AMD RX 7700 XT: Riconosciuta dal sistema ma PyTorch usa CPU\")\n",
        "print(\"Per accelerazione GPU AMD: ROCm su Linux o DirectML (sperimentale)\")\n",
        "\n",
        "# Test basic operations\n",
        "test_tensor = torch.randn(3, 3)\n",
        "print(f\"\\nTest tensor: {test_tensor.shape} su device: {test_tensor.device}\")\n",
        "print(\"PyTorch installato e funzionante! ✅\")"
      ]
    },
    {
      "cell_type": "markdown",
      "id": "098fa390",
      "metadata": {
        "id": "098fa390"
      },
      "source": [
        "### Preparazione dei dati"
      ]
    },
    {
      "cell_type": "markdown",
      "id": "ae2267cc",
      "metadata": {
        "id": "ae2267cc"
      },
      "source": [
        "Import del dataset da internet"
      ]
    },
    {
      "cell_type": "code",
      "execution_count": 5,
      "id": "e5fae272",
      "metadata": {
        "id": "e5fae272",
        "outputId": "ceabb0cf-b9c2-488c-ed54-30b531bc0fc1",
        "colab": {
          "base_uri": "https://localhost:8080/",
          "height": 356
        }
      },
      "outputs": [
        {
          "output_type": "error",
          "ename": "FileNotFoundError",
          "evalue": "[Errno 2] No such file or directory: 'data/catdogs/validation'",
          "traceback": [
            "\u001b[0;31m---------------------------------------------------------------------------\u001b[0m",
            "\u001b[0;31mFileNotFoundError\u001b[0m                         Traceback (most recent call last)",
            "\u001b[0;32m/tmp/ipython-input-3040798223.py\u001b[0m in \u001b[0;36m<cell line: 0>\u001b[0;34m()\u001b[0m\n\u001b[1;32m      7\u001b[0m ])\n\u001b[1;32m      8\u001b[0m \u001b[0;34m\u001b[0m\u001b[0m\n\u001b[0;32m----> 9\u001b[0;31m \u001b[0mtest_set\u001b[0m \u001b[0;34m=\u001b[0m \u001b[0mdatasets\u001b[0m\u001b[0;34m.\u001b[0m\u001b[0mImageFolder\u001b[0m\u001b[0;34m(\u001b[0m\u001b[0mroot\u001b[0m\u001b[0;34m=\u001b[0m\u001b[0;34m'data/catdogs/validation'\u001b[0m\u001b[0;34m,\u001b[0m \u001b[0mtransform\u001b[0m\u001b[0;34m=\u001b[0m\u001b[0mtransform\u001b[0m\u001b[0;34m)\u001b[0m\u001b[0;34m\u001b[0m\u001b[0;34m\u001b[0m\u001b[0m\n\u001b[0m\u001b[1;32m     10\u001b[0m \u001b[0;34m\u001b[0m\u001b[0m\n\u001b[1;32m     11\u001b[0m \u001b[0mtest_loader\u001b[0m \u001b[0;34m=\u001b[0m \u001b[0mDataLoader\u001b[0m\u001b[0;34m(\u001b[0m\u001b[0mtest_set\u001b[0m\u001b[0;34m,\u001b[0m \u001b[0mbatch_size\u001b[0m\u001b[0;34m=\u001b[0m\u001b[0;36m64\u001b[0m\u001b[0;34m,\u001b[0m \u001b[0mpin_memory\u001b[0m\u001b[0;34m=\u001b[0m\u001b[0;32mTrue\u001b[0m\u001b[0;34m,\u001b[0m \u001b[0mnum_workers\u001b[0m\u001b[0;34m=\u001b[0m\u001b[0;36m8\u001b[0m\u001b[0;34m)\u001b[0m\u001b[0;34m\u001b[0m\u001b[0;34m\u001b[0m\u001b[0m\n",
            "\u001b[0;32m/usr/local/lib/python3.12/dist-packages/torchvision/datasets/folder.py\u001b[0m in \u001b[0;36m__init__\u001b[0;34m(self, root, transform, target_transform, loader, is_valid_file, allow_empty)\u001b[0m\n\u001b[1;32m    326\u001b[0m         \u001b[0mallow_empty\u001b[0m\u001b[0;34m:\u001b[0m \u001b[0mbool\u001b[0m \u001b[0;34m=\u001b[0m \u001b[0;32mFalse\u001b[0m\u001b[0;34m,\u001b[0m\u001b[0;34m\u001b[0m\u001b[0;34m\u001b[0m\u001b[0m\n\u001b[1;32m    327\u001b[0m     ):\n\u001b[0;32m--> 328\u001b[0;31m         super().__init__(\n\u001b[0m\u001b[1;32m    329\u001b[0m             \u001b[0mroot\u001b[0m\u001b[0;34m,\u001b[0m\u001b[0;34m\u001b[0m\u001b[0;34m\u001b[0m\u001b[0m\n\u001b[1;32m    330\u001b[0m             \u001b[0mloader\u001b[0m\u001b[0;34m,\u001b[0m\u001b[0;34m\u001b[0m\u001b[0;34m\u001b[0m\u001b[0m\n",
            "\u001b[0;32m/usr/local/lib/python3.12/dist-packages/torchvision/datasets/folder.py\u001b[0m in \u001b[0;36m__init__\u001b[0;34m(self, root, loader, extensions, transform, target_transform, is_valid_file, allow_empty)\u001b[0m\n\u001b[1;32m    147\u001b[0m     ) -> None:\n\u001b[1;32m    148\u001b[0m         \u001b[0msuper\u001b[0m\u001b[0;34m(\u001b[0m\u001b[0;34m)\u001b[0m\u001b[0;34m.\u001b[0m\u001b[0m__init__\u001b[0m\u001b[0;34m(\u001b[0m\u001b[0mroot\u001b[0m\u001b[0;34m,\u001b[0m \u001b[0mtransform\u001b[0m\u001b[0;34m=\u001b[0m\u001b[0mtransform\u001b[0m\u001b[0;34m,\u001b[0m \u001b[0mtarget_transform\u001b[0m\u001b[0;34m=\u001b[0m\u001b[0mtarget_transform\u001b[0m\u001b[0;34m)\u001b[0m\u001b[0;34m\u001b[0m\u001b[0;34m\u001b[0m\u001b[0m\n\u001b[0;32m--> 149\u001b[0;31m         \u001b[0mclasses\u001b[0m\u001b[0;34m,\u001b[0m \u001b[0mclass_to_idx\u001b[0m \u001b[0;34m=\u001b[0m \u001b[0mself\u001b[0m\u001b[0;34m.\u001b[0m\u001b[0mfind_classes\u001b[0m\u001b[0;34m(\u001b[0m\u001b[0mself\u001b[0m\u001b[0;34m.\u001b[0m\u001b[0mroot\u001b[0m\u001b[0;34m)\u001b[0m\u001b[0;34m\u001b[0m\u001b[0;34m\u001b[0m\u001b[0m\n\u001b[0m\u001b[1;32m    150\u001b[0m         samples = self.make_dataset(\n\u001b[1;32m    151\u001b[0m             \u001b[0mself\u001b[0m\u001b[0;34m.\u001b[0m\u001b[0mroot\u001b[0m\u001b[0;34m,\u001b[0m\u001b[0;34m\u001b[0m\u001b[0;34m\u001b[0m\u001b[0m\n",
            "\u001b[0;32m/usr/local/lib/python3.12/dist-packages/torchvision/datasets/folder.py\u001b[0m in \u001b[0;36mfind_classes\u001b[0;34m(self, directory)\u001b[0m\n\u001b[1;32m    232\u001b[0m             \u001b[0;34m(\u001b[0m\u001b[0mTuple\u001b[0m\u001b[0;34m[\u001b[0m\u001b[0mList\u001b[0m\u001b[0;34m[\u001b[0m\u001b[0mstr\u001b[0m\u001b[0;34m]\u001b[0m\u001b[0;34m,\u001b[0m \u001b[0mDict\u001b[0m\u001b[0;34m[\u001b[0m\u001b[0mstr\u001b[0m\u001b[0;34m,\u001b[0m \u001b[0mint\u001b[0m\u001b[0;34m]\u001b[0m\u001b[0;34m]\u001b[0m\u001b[0;34m)\u001b[0m\u001b[0;34m:\u001b[0m \u001b[0mList\u001b[0m \u001b[0mof\u001b[0m \u001b[0mall\u001b[0m \u001b[0mclasses\u001b[0m \u001b[0;32mand\u001b[0m \u001b[0mdictionary\u001b[0m \u001b[0mmapping\u001b[0m \u001b[0meach\u001b[0m \u001b[0;32mclass\u001b[0m \u001b[0mto\u001b[0m \u001b[0man\u001b[0m \u001b[0mindex\u001b[0m\u001b[0;34m.\u001b[0m\u001b[0;34m\u001b[0m\u001b[0;34m\u001b[0m\u001b[0m\n\u001b[1;32m    233\u001b[0m         \"\"\"\n\u001b[0;32m--> 234\u001b[0;31m         \u001b[0;32mreturn\u001b[0m \u001b[0mfind_classes\u001b[0m\u001b[0;34m(\u001b[0m\u001b[0mdirectory\u001b[0m\u001b[0;34m)\u001b[0m\u001b[0;34m\u001b[0m\u001b[0;34m\u001b[0m\u001b[0m\n\u001b[0m\u001b[1;32m    235\u001b[0m \u001b[0;34m\u001b[0m\u001b[0m\n\u001b[1;32m    236\u001b[0m     \u001b[0;32mdef\u001b[0m \u001b[0m__getitem__\u001b[0m\u001b[0;34m(\u001b[0m\u001b[0mself\u001b[0m\u001b[0;34m,\u001b[0m \u001b[0mindex\u001b[0m\u001b[0;34m:\u001b[0m \u001b[0mint\u001b[0m\u001b[0;34m)\u001b[0m \u001b[0;34m->\u001b[0m \u001b[0mtuple\u001b[0m\u001b[0;34m[\u001b[0m\u001b[0mAny\u001b[0m\u001b[0;34m,\u001b[0m \u001b[0mAny\u001b[0m\u001b[0;34m]\u001b[0m\u001b[0;34m:\u001b[0m\u001b[0;34m\u001b[0m\u001b[0;34m\u001b[0m\u001b[0m\n",
            "\u001b[0;32m/usr/local/lib/python3.12/dist-packages/torchvision/datasets/folder.py\u001b[0m in \u001b[0;36mfind_classes\u001b[0;34m(directory)\u001b[0m\n\u001b[1;32m     39\u001b[0m     \u001b[0mSee\u001b[0m \u001b[0;34m:\u001b[0m\u001b[0;32mclass\u001b[0m\u001b[0;34m:\u001b[0m\u001b[0;31m`\u001b[0m\u001b[0mDatasetFolder\u001b[0m\u001b[0;31m`\u001b[0m \u001b[0;32mfor\u001b[0m \u001b[0mdetails\u001b[0m\u001b[0;34m.\u001b[0m\u001b[0;34m\u001b[0m\u001b[0;34m\u001b[0m\u001b[0m\n\u001b[1;32m     40\u001b[0m     \"\"\"\n\u001b[0;32m---> 41\u001b[0;31m     \u001b[0mclasses\u001b[0m \u001b[0;34m=\u001b[0m \u001b[0msorted\u001b[0m\u001b[0;34m(\u001b[0m\u001b[0mentry\u001b[0m\u001b[0;34m.\u001b[0m\u001b[0mname\u001b[0m \u001b[0;32mfor\u001b[0m \u001b[0mentry\u001b[0m \u001b[0;32min\u001b[0m \u001b[0mos\u001b[0m\u001b[0;34m.\u001b[0m\u001b[0mscandir\u001b[0m\u001b[0;34m(\u001b[0m\u001b[0mdirectory\u001b[0m\u001b[0;34m)\u001b[0m \u001b[0;32mif\u001b[0m \u001b[0mentry\u001b[0m\u001b[0;34m.\u001b[0m\u001b[0mis_dir\u001b[0m\u001b[0;34m(\u001b[0m\u001b[0;34m)\u001b[0m\u001b[0;34m)\u001b[0m\u001b[0;34m\u001b[0m\u001b[0;34m\u001b[0m\u001b[0m\n\u001b[0m\u001b[1;32m     42\u001b[0m     \u001b[0;32mif\u001b[0m \u001b[0;32mnot\u001b[0m \u001b[0mclasses\u001b[0m\u001b[0;34m:\u001b[0m\u001b[0;34m\u001b[0m\u001b[0;34m\u001b[0m\u001b[0m\n\u001b[1;32m     43\u001b[0m         \u001b[0;32mraise\u001b[0m \u001b[0mFileNotFoundError\u001b[0m\u001b[0;34m(\u001b[0m\u001b[0;34mf\"Couldn't find any class folder in {directory}.\"\u001b[0m\u001b[0;34m)\u001b[0m\u001b[0;34m\u001b[0m\u001b[0;34m\u001b[0m\u001b[0m\n",
            "\u001b[0;31mFileNotFoundError\u001b[0m: [Errno 2] No such file or directory: 'data/catdogs/validation'"
          ]
        }
      ],
      "source": [
        "from torchvision import datasets, transforms\n",
        "from torch.utils.data import DataLoader\n",
        "\n",
        "transform = transforms.Compose([\n",
        "    transforms.Resize((150, 150)),\n",
        "    transforms.ToTensor()\n",
        "])\n",
        "\n",
        "test_set = datasets.ImageFolder(root='data/catdogs/validation', transform=transform)\n",
        "\n",
        "test_loader = DataLoader(test_set, batch_size=64, pin_memory=True, num_workers=8)\n"
      ]
    },
    {
      "cell_type": "code",
      "execution_count": null,
      "id": "36d19557",
      "metadata": {
        "id": "36d19557"
      },
      "outputs": [],
      "source": [
        "import matplotlib.pyplot as plt\n",
        "\n",
        "train_set = datasets.ImageFolder(root='data/catdogs/train', transform=transform)\n",
        "train_loader = DataLoader(train_set, batch_size=128, shuffle=True, pin_memory=True, num_workers=8)\n",
        "\n",
        "images, labels = next(iter(train_loader))\n",
        "\n",
        "fig, axes = plt.subplots(1, 5, figsize=(15, 3))\n",
        "for i in range(5):\n",
        "    img = images[i].permute(1, 2, 0)  # CHW --> HWC\n",
        "    label = labels[i].item()\n",
        "    axes[i].imshow(img)\n",
        "    axes[i].set_title(f\"Label: {label}\")\n",
        "\n",
        "plt.tight_layout()\n",
        "plt.show()"
      ]
    },
    {
      "cell_type": "markdown",
      "id": "e8e51a8c",
      "metadata": {
        "id": "e8e51a8c"
      },
      "source": [
        "Data augmentation"
      ]
    },
    {
      "cell_type": "code",
      "execution_count": null,
      "id": "e5b1e88f",
      "metadata": {
        "id": "e5b1e88f"
      },
      "outputs": [],
      "source": [
        "data_aug = transforms.Compose([\n",
        "    transforms.Resize((150, 150)),\n",
        "    transforms.RandomRotation(40, fill=128),\n",
        "    transforms.RandomAffine(\n",
        "        degrees=0,\n",
        "        translate=(0.2, 0.2),\n",
        "        scale=(0.8, 1.2),\n",
        "        shear=(-5.5, 5.5),\n",
        "        fill=128\n",
        "    ),\n",
        "    transforms.RandomHorizontalFlip(p=0.5),\n",
        "    transforms.ToTensor()\n",
        "])\n",
        "\n",
        "train_set.transform = data_aug"
      ]
    },
    {
      "cell_type": "code",
      "execution_count": null,
      "id": "95bb1fe7",
      "metadata": {
        "id": "95bb1fe7"
      },
      "outputs": [],
      "source": [
        "images, labels = next(iter(train_loader))\n",
        "\n",
        "fig, axes = plt.subplots(1, 5, figsize=(15, 3))\n",
        "for i in range(5):\n",
        "    img = images[i].permute(1, 2, 0)  # CHW --> HWC\n",
        "    label = labels[i].item()\n",
        "    axes[i].imshow(img)\n",
        "    axes[i].set_title(f\"Label: {label}\")\n",
        "\n",
        "plt.tight_layout()\n",
        "plt.show()"
      ]
    },
    {
      "cell_type": "markdown",
      "id": "5d6425c8",
      "metadata": {
        "id": "5d6425c8"
      },
      "source": [
        "### Preparazione CNN"
      ]
    },
    {
      "cell_type": "markdown",
      "id": "f656c652",
      "metadata": {
        "id": "f656c652"
      },
      "source": [
        "Rete Neurale"
      ]
    },
    {
      "cell_type": "code",
      "execution_count": null,
      "id": "0b203650",
      "metadata": {
        "id": "0b203650"
      },
      "outputs": [],
      "source": [
        "class PetsCNN(nn.Module):\n",
        "    def __init__(self):\n",
        "        super().__init__()\n",
        "        self.conv_stack = nn.Sequential(\n",
        "            nn.Conv2d(3, 16, kernel_size=3),\n",
        "            nn.ReLU(),\n",
        "            nn.MaxPool2d(2),\n",
        "            nn.Conv2d(16, 32, kernel_size=3),\n",
        "            nn.ReLU(),\n",
        "            nn.MaxPool2d(2),\n",
        "            nn.Conv2d(32, 64, kernel_size=3),\n",
        "            nn.ReLU(),\n",
        "            nn.MaxPool2d(2)\n",
        "        )\n",
        "\n",
        "        self.fc_stack = nn.Sequential(\n",
        "            nn.Flatten(),\n",
        "            # output_size = (input_size - kernel_size) / stride + 1\n",
        "            # da fare per tutti i layer conv e pool, alla fine viene 64 canali * 17 * 17\n",
        "            nn.Linear(64 * 17 * 17, 512),\n",
        "            nn.ReLU(),\n",
        "            nn.Dropout(0.5),\n",
        "            nn.Linear(512, 1),\n",
        "            nn.Sigmoid()\n",
        "        )\n",
        "\n",
        "    def forward(self, x):\n",
        "        x = self.conv_stack(x)\n",
        "        x = self.fc_stack(x)\n",
        "        return x\n",
        "\n",
        "cnn = PetsCNN().to(device)"
      ]
    },
    {
      "cell_type": "markdown",
      "id": "b335efbc",
      "metadata": {
        "id": "b335efbc"
      },
      "source": [
        "Funzione di costo e ottimizzatore"
      ]
    },
    {
      "cell_type": "code",
      "execution_count": null,
      "id": "56d82696",
      "metadata": {
        "id": "56d82696"
      },
      "outputs": [],
      "source": [
        "import torch.optim as optim\n",
        "\n",
        "criterion = nn.BCELoss()\n",
        "optimizer = optim.Adam(cnn.parameters(), lr=0.001)"
      ]
    },
    {
      "cell_type": "markdown",
      "id": "a70140a0",
      "metadata": {
        "id": "a70140a0"
      },
      "source": [
        "### Training"
      ]
    },
    {
      "cell_type": "code",
      "execution_count": null,
      "id": "0a6025f4",
      "metadata": {
        "id": "0a6025f4"
      },
      "outputs": [],
      "source": [
        "epochs = 50\n",
        "\n",
        "train_losses = []\n",
        "train_accuracies = []\n",
        "val_accuracies = []\n",
        "\n",
        "for epoch in range(epochs):\n",
        "    cnn.train()\n",
        "    running_loss = 0.0\n",
        "    correct_train = 0\n",
        "    total_train = 0\n",
        "\n",
        "    for i, data in enumerate(train_loader, 0):\n",
        "        inputs, labels = data[0].to(device, non_blocking=True), data[1].to(device, non_blocking=True)\n",
        "\n",
        "        labels = labels.float().unsqueeze(1)\n",
        "\n",
        "        optimizer.zero_grad()\n",
        "        outputs = cnn(inputs)\n",
        "        loss = criterion(outputs, labels)\n",
        "        loss.backward()\n",
        "        optimizer.step()\n",
        "\n",
        "        running_loss += loss.item()\n",
        "\n",
        "        predicted = (outputs > 0.5).long()\n",
        "        total_train += labels.size(0)\n",
        "        correct_train += (predicted == labels.long()).sum().item()\n",
        "\n",
        "    avg_loss = running_loss / len(train_loader)\n",
        "    train_acc = 100 * correct_train / total_train\n",
        "    train_losses.append(avg_loss)\n",
        "    train_accuracies.append(train_acc)\n",
        "\n",
        "    cnn.eval()\n",
        "    correct_val = 0\n",
        "    total_val = 0\n",
        "\n",
        "    with torch.no_grad():\n",
        "        for images, labels in test_loader:\n",
        "            images, labels = images.to(device), labels.to(device)\n",
        "            outputs = cnn(images)\n",
        "            predicted = (outputs > 0.5).long().squeeze()\n",
        "            total_val += labels.size(0)\n",
        "            correct_val += (predicted == labels).sum().item()\n",
        "\n",
        "    val_acc = 100 * correct_val / total_val\n",
        "    val_accuracies.append(val_acc)\n",
        "\n",
        "    print(f'Epoch [{epoch + 1}/{epochs}], Loss: {avg_loss:.4f}, Train Acc: {train_acc:.2f}%, Val Acc: {val_acc:.2f}%')\n",
        "\n",
        "print('Training Terminato')"
      ]
    },
    {
      "cell_type": "markdown",
      "id": "da386ead",
      "metadata": {
        "id": "da386ead"
      },
      "source": [
        "### Test"
      ]
    },
    {
      "cell_type": "code",
      "execution_count": null,
      "id": "c4b6e4fc",
      "metadata": {
        "id": "c4b6e4fc"
      },
      "outputs": [],
      "source": [
        "cnn.eval()\n",
        "correct = 0\n",
        "total = 0\n",
        "\n",
        "with torch.no_grad():\n",
        "    for images, labels in test_loader:\n",
        "        images, labels = images.to(device), labels.to(device)\n",
        "\n",
        "        outputs = cnn(images)\n",
        "        predicted = (outputs > 0.5).long().squeeze()\n",
        "        total += labels.size(0)\n",
        "        correct += (predicted == labels).sum().item()\n",
        "\n",
        "accuracy = correct / total\n",
        "print(f'Accuratezza finale sul test set: {accuracy:.2%}')"
      ]
    },
    {
      "cell_type": "code",
      "execution_count": null,
      "id": "dd80dcd8",
      "metadata": {
        "id": "dd80dcd8"
      },
      "outputs": [],
      "source": [
        "import matplotlib.pyplot as plt\n",
        "\n",
        "fig, (ax1, ax2) = plt.subplots(1, 2, figsize=(15, 5))\n",
        "\n",
        "# Plot Loss\n",
        "ax1.plot(range(1, epochs + 1), train_losses, 'b-', label='Training Loss')\n",
        "ax1.set_xlabel('Epoch')\n",
        "ax1.set_ylabel('Loss')\n",
        "ax1.set_title('Training Loss nel tempo')\n",
        "ax1.legend()\n",
        "ax1.grid(True)\n",
        "\n",
        "# Plot Accuracy\n",
        "ax2.plot(range(1, epochs + 1), train_accuracies, 'b-', label='Training Accuracy')\n",
        "ax2.plot(range(1, epochs + 1), val_accuracies, 'r-', label='Validation Accuracy')\n",
        "ax2.set_xlabel('Epoch')\n",
        "ax2.set_ylabel('Accuracy (%)')\n",
        "ax2.set_title('Training vs Validation Accuracy')\n",
        "ax2.legend()\n",
        "ax2.grid(True)\n",
        "\n",
        "plt.tight_layout()\n",
        "plt.show()\n",
        "\n",
        "# Stampa risultati finali\n",
        "print(f\"\\nRisultati finali:\")\n",
        "print(f\"Training Accuracy: {train_accuracies[-1]:.2f}%\")\n",
        "print(f\"Validation Accuracy: {val_accuracies[-1]:.2f}%\")"
      ]
    }
  ],
  "metadata": {
    "kernelspec": {
      "display_name": "Python 3",
      "name": "python3"
    },
    "language_info": {
      "codemirror_mode": {
        "name": "ipython",
        "version": 3
      },
      "file_extension": ".py",
      "mimetype": "text/x-python",
      "name": "python",
      "nbconvert_exporter": "python",
      "pygments_lexer": "ipython3",
      "version": "3.13.5"
    },
    "colab": {
      "provenance": [],
      "toc_visible": true,
      "gpuType": "T4"
    },
    "accelerator": "GPU"
  },
  "nbformat": 4,
  "nbformat_minor": 5
}